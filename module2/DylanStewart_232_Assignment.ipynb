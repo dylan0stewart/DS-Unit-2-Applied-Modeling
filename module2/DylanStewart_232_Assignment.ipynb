{
 "cells": [
  {
   "cell_type": "markdown",
   "metadata": {
    "colab_type": "text",
    "id": "nCc3XZEyG3XV"
   },
   "source": [
    "Lambda School Data Science\n",
    "\n",
    "*Unit 2, Sprint 3, Module 2*\n",
    "\n",
    "---\n",
    "\n",
    "\n",
    "# Wrangle ML datasets\n",
    "\n",
    "You will use your portfolio project dataset for all assignments this sprint.\n",
    "\n",
    "## Assignment\n",
    "\n",
    "Complete these tasks for your project, and document your decisions.\n",
    "\n",
    "- [ ] Continue to clean and explore your data.\n",
    "- [ ] For the evaluation metric you chose, what score would you get just by guessing?\n",
    "- [ ] Can you make a fast, first model that beats guessing?\n",
    "\n",
    "We recommend that you use your portfolio project dataset for all assignments this sprint."
   ]
  },
  {
   "cell_type": "code",
   "execution_count": 1,
   "metadata": {},
   "outputs": [],
   "source": [
    "import pandas as pd\n",
    "# importing/instantiating all the csv's in case I want to use any of the other data as well\n",
    "# main DF\n",
    "df = pd.read_csv('C:/users/Stewa/Documents/Downloads/steam-store-games/steam.csv')\n",
    "# More csvs in the dataset for extra data\n",
    "tag_data = pd.read_csv('C:/users/Stewa/Documents/Downloads/steam-store-games/steamspy_tag_data.csv')\n",
    "media = pd.read_csv('C:/users/Stewa/Documents/Downloads/steam-store-games/steam_media_data.csv')\n",
    "descrip = pd.read_csv('C:/users/Stewa/Documents/Downloads/steam-store-games/steam_description_data.csv')"
   ]
  },
  {
   "cell_type": "code",
   "execution_count": 2,
   "metadata": {},
   "outputs": [
    {
     "data": {
      "text/plain": [
       "appid               0\n",
       "name                0\n",
       "release_date        0\n",
       "english             0\n",
       "developer           0\n",
       "publisher           0\n",
       "platforms           0\n",
       "required_age        0\n",
       "categories          0\n",
       "genres              0\n",
       "steamspy_tags       0\n",
       "achievements        0\n",
       "positive_ratings    0\n",
       "negative_ratings    0\n",
       "average_playtime    0\n",
       "median_playtime     0\n",
       "owners              0\n",
       "price               0\n",
       "dtype: int64"
      ]
     },
     "execution_count": 2,
     "metadata": {},
     "output_type": "execute_result"
    }
   ],
   "source": [
    "# check for nulls/clean them up\n",
    "df.isnull().sum()\n",
    "# instantiate a df_clean so i can have a version to work with, and drop NaNs to start\n",
    "df_clean = df.dropna()\n",
    "# check it out now\n",
    "df_clean.shape\n",
    "df_clean.isnull().sum()"
   ]
  },
  {
   "cell_type": "code",
   "execution_count": 3,
   "metadata": {},
   "outputs": [],
   "source": [
    "#defining my target to explore and validate that ts a good target, and feature pool\n",
    "##########\n",
    "potential_target = df_clean['price']\n",
    "features_all = df_clean.drop(['price'], axis=1)\n",
    "##########"
   ]
  },
  {
   "cell_type": "code",
   "execution_count": 4,
   "metadata": {},
   "outputs": [
    {
     "data": {
      "text/plain": [
       "count    4519.000000\n",
       "mean        8.210487\n",
       "std         6.994366\n",
       "min         0.000000\n",
       "25%         3.990000\n",
       "50%         6.990000\n",
       "75%        10.990000\n",
       "max        95.990000\n",
       "Name: price, dtype: float64"
      ]
     },
     "execution_count": 4,
     "metadata": {},
     "output_type": "execute_result"
    }
   ],
   "source": [
    "# check out my target a bit, see what the common range is for prices\n",
    "potential_target.describe()\n",
    "# Average price is way lower than i thought"
   ]
  },
  {
   "cell_type": "code",
   "execution_count": 5,
   "metadata": {},
   "outputs": [
    {
     "name": "stdout",
     "output_type": "stream",
     "text": [
      "6.99     0.170170\n",
      "3.99     0.126355\n",
      "14.99    0.065280\n",
      "0.00     0.062403\n",
      "10.99    0.061297\n",
      "           ...   \n",
      "36.99    0.000221\n",
      "2.29     0.000221\n",
      "4.65     0.000221\n",
      "95.99    0.000221\n",
      "11.69    0.000221\n",
      "Name: price, Length: 113, dtype: float64\n"
     ]
    },
    {
     "data": {
      "text/plain": [
       "' \\nI gotta shorten this list, going to add a column for price range;\\nie: $1-$5,$5-$10, etc.\\n\\nMy baseline is terrible, at only 17%, because of how many options \\nthere are, this is why i need to get that number down\\n'"
      ]
     },
     "execution_count": 5,
     "metadata": {},
     "output_type": "execute_result"
    }
   ],
   "source": [
    "print(potential_target.value_counts(normalize=True))\n",
    "''' \n",
    "I gotta shorten this list, going to add a column for price range;\n",
    "ie: $1-$5,$5-$10, etc.\n",
    "\n",
    "My baseline is terrible, at only 17%, because of how many options \n",
    "there are, this is why i need to get that number down\n",
    "'''"
   ]
  },
  {
   "cell_type": "code",
   "execution_count": 6,
   "metadata": {},
   "outputs": [
    {
     "data": {
      "text/plain": [
       "0       False\n",
       "1        True\n",
       "2        True\n",
       "3        True\n",
       "4        True\n",
       "        ...  \n",
       "4514     True\n",
       "4515     True\n",
       "4516     True\n",
       "4517     True\n",
       "4518     True\n",
       "Name: price, Length: 4519, dtype: bool"
      ]
     },
     "execution_count": 6,
     "metadata": {},
     "output_type": "execute_result"
    }
   ],
   "source": [
    "(df_clean['price'] < 5) & (df_clean['price'] >= 1)"
   ]
  },
  {
   "cell_type": "code",
   "execution_count": null,
   "metadata": {},
   "outputs": [],
   "source": []
  },
  {
   "cell_type": "code",
   "execution_count": 14,
   "metadata": {},
   "outputs": [
    {
     "name": "stderr",
     "output_type": "stream",
     "text": [
      "C:\\Users\\stewa\\Anaconda3\\lib\\site-packages\\ipykernel_launcher.py:14: SettingWithCopyWarning: \n",
      "A value is trying to be set on a copy of a slice from a DataFrame.\n",
      "Try using .loc[row_indexer,col_indexer] = value instead\n",
      "\n",
      "See the caveats in the documentation: http://pandas.pydata.org/pandas-docs/stable/user_guide/indexing.html#returning-a-view-versus-a-copy\n",
      "  \n"
     ]
    }
   ],
   "source": [
    "def label_race (row):\n",
    "    if (row['price'] >= .50) & (row['price'] <= 5) :\n",
    "      return '1-5'\n",
    "    if (row['price'] > 5) & (row['price'] <= 9.99) :\n",
    "      return '5-10'\n",
    "    if (row['price'] >= 10) & (row['price'] <= 14.99) :\n",
    "      return '10-15'\n",
    "    if (row['price'] >= 15) & (row['price'] <= 24.99) :\n",
    "      return '15-25'\n",
    "    if (row['price'] >= 25) & (row['price'] <= 70) :\n",
    "      return '25+'\n",
    "    return 'outlier'\n",
    "\n",
    "df_clean['price_range'] = df_clean.apply(lambda row: label_race(row), axis=1)"
   ]
  },
  {
   "cell_type": "code",
   "execution_count": 15,
   "metadata": {},
   "outputs": [],
   "source": [
    "df_clean.head()\n",
    "# drop all my outliers\n",
    "df_clean = df_clean[~df_clean.price_range.str.contains(\"outlier\")]"
   ]
  },
  {
   "cell_type": "code",
   "execution_count": 16,
   "metadata": {},
   "outputs": [
    {
     "data": {
      "text/plain": [
       "5-10     0.359235\n",
       "1-5      0.350024\n",
       "10-15    0.184459\n",
       "15-25    0.077232\n",
       "25+      0.029051\n",
       "Name: price_range, dtype: float64"
      ]
     },
     "execution_count": 16,
     "metadata": {},
     "output_type": "execute_result"
    }
   ],
   "source": [
    "\n",
    "''' \n",
    "This is a much better baseline to work with, and price format\n",
    "in general. further down the line I'll look into how to predict \n",
    "specific prices, but for exploration/tinkering purposes, this will do.\n",
    "This also turns this into a classification problem, as the options are \n",
    "3 different strings, not a continuous number\n",
    "'''\n",
    "df_clean['price_range'].value_counts(normalize=True)"
   ]
  },
  {
   "cell_type": "code",
   "execution_count": 17,
   "metadata": {},
   "outputs": [],
   "source": [
    "# Define it as my target\n",
    "target = df_clean['price_range']\n",
    "\n"
   ]
  },
  {
   "cell_type": "code",
   "execution_count": 18,
   "metadata": {},
   "outputs": [
    {
     "data": {
      "text/plain": [
       "\"\\nNow we know this is a classfication problem, and that my baseline \\nby guessing would be 35%, shouldn't be too hard to beat!\\n\\nNext, lets throw together a quick model using mostly old code,\\neverything as features, and just see how close it gets\\n\""
      ]
     },
     "execution_count": 18,
     "metadata": {},
     "output_type": "execute_result"
    }
   ],
   "source": [
    "'''\n",
    "Now we know this is a classfication problem, and that my baseline \n",
    "by guessing would be 35%, shouldn't be too hard to beat!\n",
    "\n",
    "Next, lets throw together a quick model using mostly old code,\n",
    "everything as features, and just see how close it gets\n",
    "'''"
   ]
  },
  {
   "cell_type": "code",
   "execution_count": 19,
   "metadata": {},
   "outputs": [],
   "source": [
    "#lets split the data into train,val,test!\n",
    "# first, I need to cast release_date to dt format\n",
    "df_clean['release_date'] = pd.to_datetime(df_clean['release_date'], infer_datetime_format=True)\n",
    "\n",
    "\n",
    "\n",
    "train = df_clean.loc[(df_clean['release_date'] <= pd.datetime(2014,12,31)) \n",
    "                     & (df_clean['release_date'] >= pd.datetime(1997,1,1))]\n",
    "\n",
    "test = df_clean.loc[(df_clean['release_date'] >= pd.datetime(2015,1,1))\n",
    "                   & (df_clean['release_date'] <= pd.datetime(2019,12,31))]\n",
    "\n",
    "\n"
   ]
  },
  {
   "cell_type": "code",
   "execution_count": 20,
   "metadata": {},
   "outputs": [
    {
     "data": {
      "text/plain": [
       "((4234, 19), (3172,), (1062,))"
      ]
     },
     "execution_count": 20,
     "metadata": {},
     "output_type": "execute_result"
    }
   ],
   "source": [
    "df_clean.shape, train['release_date'].shape, test['release_date'].shape"
   ]
  },
  {
   "cell_type": "code",
   "execution_count": 21,
   "metadata": {},
   "outputs": [
    {
     "data": {
      "text/html": [
       "<div>\n",
       "<style scoped>\n",
       "    .dataframe tbody tr th:only-of-type {\n",
       "        vertical-align: middle;\n",
       "    }\n",
       "\n",
       "    .dataframe tbody tr th {\n",
       "        vertical-align: top;\n",
       "    }\n",
       "\n",
       "    .dataframe thead th {\n",
       "        text-align: right;\n",
       "    }\n",
       "</style>\n",
       "<table border=\"1\" class=\"dataframe\">\n",
       "  <thead>\n",
       "    <tr style=\"text-align: right;\">\n",
       "      <th></th>\n",
       "      <th>appid</th>\n",
       "      <th>name</th>\n",
       "      <th>release_date</th>\n",
       "      <th>english</th>\n",
       "      <th>developer</th>\n",
       "      <th>publisher</th>\n",
       "      <th>platforms</th>\n",
       "      <th>required_age</th>\n",
       "      <th>categories</th>\n",
       "      <th>genres</th>\n",
       "      <th>steamspy_tags</th>\n",
       "      <th>achievements</th>\n",
       "      <th>positive_ratings</th>\n",
       "      <th>negative_ratings</th>\n",
       "      <th>average_playtime</th>\n",
       "      <th>median_playtime</th>\n",
       "      <th>owners</th>\n",
       "      <th>price</th>\n",
       "      <th>price_range</th>\n",
       "    </tr>\n",
       "  </thead>\n",
       "  <tbody>\n",
       "    <tr>\n",
       "      <td>0</td>\n",
       "      <td>10</td>\n",
       "      <td>Counter-Strike</td>\n",
       "      <td>2000-11-01</td>\n",
       "      <td>1</td>\n",
       "      <td>Valve</td>\n",
       "      <td>Valve</td>\n",
       "      <td>windows;mac;linux</td>\n",
       "      <td>0</td>\n",
       "      <td>Multi-player;Online Multi-Player;Local Multi-P...</td>\n",
       "      <td>Action</td>\n",
       "      <td>Action;FPS;Multiplayer</td>\n",
       "      <td>0.0</td>\n",
       "      <td>124534.0</td>\n",
       "      <td>3339.0</td>\n",
       "      <td>17612.0</td>\n",
       "      <td>317.0</td>\n",
       "      <td>10000000-20000000</td>\n",
       "      <td>7.19</td>\n",
       "      <td>5-10</td>\n",
       "    </tr>\n",
       "    <tr>\n",
       "      <td>1</td>\n",
       "      <td>20</td>\n",
       "      <td>Team Fortress Classic</td>\n",
       "      <td>1999-04-01</td>\n",
       "      <td>1</td>\n",
       "      <td>Valve</td>\n",
       "      <td>Valve</td>\n",
       "      <td>windows;mac;linux</td>\n",
       "      <td>0</td>\n",
       "      <td>Multi-player;Online Multi-Player;Local Multi-P...</td>\n",
       "      <td>Action</td>\n",
       "      <td>Action;FPS;Multiplayer</td>\n",
       "      <td>0.0</td>\n",
       "      <td>3318.0</td>\n",
       "      <td>633.0</td>\n",
       "      <td>277.0</td>\n",
       "      <td>62.0</td>\n",
       "      <td>5000000-10000000</td>\n",
       "      <td>3.99</td>\n",
       "      <td>1-5</td>\n",
       "    </tr>\n",
       "    <tr>\n",
       "      <td>2</td>\n",
       "      <td>30</td>\n",
       "      <td>Day of Defeat</td>\n",
       "      <td>2003-05-01</td>\n",
       "      <td>1</td>\n",
       "      <td>Valve</td>\n",
       "      <td>Valve</td>\n",
       "      <td>windows;mac;linux</td>\n",
       "      <td>0</td>\n",
       "      <td>Multi-player;Valve Anti-Cheat enabled</td>\n",
       "      <td>Action</td>\n",
       "      <td>FPS;World War II;Multiplayer</td>\n",
       "      <td>0.0</td>\n",
       "      <td>3416.0</td>\n",
       "      <td>398.0</td>\n",
       "      <td>187.0</td>\n",
       "      <td>34.0</td>\n",
       "      <td>5000000-10000000</td>\n",
       "      <td>3.99</td>\n",
       "      <td>1-5</td>\n",
       "    </tr>\n",
       "    <tr>\n",
       "      <td>3</td>\n",
       "      <td>40</td>\n",
       "      <td>Deathmatch Classic</td>\n",
       "      <td>2001-06-01</td>\n",
       "      <td>1</td>\n",
       "      <td>Valve</td>\n",
       "      <td>Valve</td>\n",
       "      <td>windows;mac;linux</td>\n",
       "      <td>0</td>\n",
       "      <td>Multi-player;Online Multi-Player;Local Multi-P...</td>\n",
       "      <td>Action</td>\n",
       "      <td>Action;FPS;Multiplayer</td>\n",
       "      <td>0.0</td>\n",
       "      <td>1273.0</td>\n",
       "      <td>267.0</td>\n",
       "      <td>258.0</td>\n",
       "      <td>184.0</td>\n",
       "      <td>5000000-10000000</td>\n",
       "      <td>3.99</td>\n",
       "      <td>1-5</td>\n",
       "    </tr>\n",
       "    <tr>\n",
       "      <td>4</td>\n",
       "      <td>50</td>\n",
       "      <td>Half-Life: Opposing Force</td>\n",
       "      <td>1999-11-01</td>\n",
       "      <td>1</td>\n",
       "      <td>Gearbox Software</td>\n",
       "      <td>Valve</td>\n",
       "      <td>windows;mac;linux</td>\n",
       "      <td>0</td>\n",
       "      <td>Single-player;Multi-player;Valve Anti-Cheat en...</td>\n",
       "      <td>Action</td>\n",
       "      <td>FPS;Action;Sci-fi</td>\n",
       "      <td>0.0</td>\n",
       "      <td>5250.0</td>\n",
       "      <td>288.0</td>\n",
       "      <td>624.0</td>\n",
       "      <td>415.0</td>\n",
       "      <td>5000000-10000000</td>\n",
       "      <td>3.99</td>\n",
       "      <td>1-5</td>\n",
       "    </tr>\n",
       "  </tbody>\n",
       "</table>\n",
       "</div>"
      ],
      "text/plain": [
       "   appid                       name release_date  english         developer  \\\n",
       "0     10             Counter-Strike   2000-11-01        1             Valve   \n",
       "1     20      Team Fortress Classic   1999-04-01        1             Valve   \n",
       "2     30              Day of Defeat   2003-05-01        1             Valve   \n",
       "3     40         Deathmatch Classic   2001-06-01        1             Valve   \n",
       "4     50  Half-Life: Opposing Force   1999-11-01        1  Gearbox Software   \n",
       "\n",
       "  publisher          platforms  required_age  \\\n",
       "0     Valve  windows;mac;linux             0   \n",
       "1     Valve  windows;mac;linux             0   \n",
       "2     Valve  windows;mac;linux             0   \n",
       "3     Valve  windows;mac;linux             0   \n",
       "4     Valve  windows;mac;linux             0   \n",
       "\n",
       "                                          categories  genres  \\\n",
       "0  Multi-player;Online Multi-Player;Local Multi-P...  Action   \n",
       "1  Multi-player;Online Multi-Player;Local Multi-P...  Action   \n",
       "2              Multi-player;Valve Anti-Cheat enabled  Action   \n",
       "3  Multi-player;Online Multi-Player;Local Multi-P...  Action   \n",
       "4  Single-player;Multi-player;Valve Anti-Cheat en...  Action   \n",
       "\n",
       "                  steamspy_tags  achievements  positive_ratings  \\\n",
       "0        Action;FPS;Multiplayer           0.0          124534.0   \n",
       "1        Action;FPS;Multiplayer           0.0            3318.0   \n",
       "2  FPS;World War II;Multiplayer           0.0            3416.0   \n",
       "3        Action;FPS;Multiplayer           0.0            1273.0   \n",
       "4             FPS;Action;Sci-fi           0.0            5250.0   \n",
       "\n",
       "   negative_ratings  average_playtime  median_playtime             owners  \\\n",
       "0            3339.0           17612.0            317.0  10000000-20000000   \n",
       "1             633.0             277.0             62.0   5000000-10000000   \n",
       "2             398.0             187.0             34.0   5000000-10000000   \n",
       "3             267.0             258.0            184.0   5000000-10000000   \n",
       "4             288.0             624.0            415.0   5000000-10000000   \n",
       "\n",
       "   price price_range  \n",
       "0   7.19        5-10  \n",
       "1   3.99         1-5  \n",
       "2   3.99         1-5  \n",
       "3   3.99         1-5  \n",
       "4   3.99         1-5  "
      ]
     },
     "execution_count": 21,
     "metadata": {},
     "output_type": "execute_result"
    }
   ],
   "source": [
    "train.head()"
   ]
  },
  {
   "cell_type": "code",
   "execution_count": 22,
   "metadata": {},
   "outputs": [],
   "source": [
    "# instantiate target and features\n",
    "target = 'price_range'\n",
    "features = ['english', 'developer', 'publisher', 'platforms', 'required_age',\n",
    "            'categories', 'genres', 'steamspy_tags', 'achievements', 'positive_ratings',\n",
    "            'negative_ratings',\t'average_playtime', 'median_playtime', 'owners']\n",
    "# lets create my matrices and vectors\n",
    "X_train = train[features]\n",
    "y_train = train[target]\n",
    "X_test = test[features]\n",
    "y_test = test[target]"
   ]
  },
  {
   "cell_type": "code",
   "execution_count": 23,
   "metadata": {},
   "outputs": [
    {
     "name": "stdout",
     "output_type": "stream",
     "text": [
      "Fitting 3 folds for each of 10 candidates, totalling 30 fits\n"
     ]
    },
    {
     "name": "stderr",
     "output_type": "stream",
     "text": [
      "[Parallel(n_jobs=-1)]: Using backend LokyBackend with 8 concurrent workers.\n",
      "[Parallel(n_jobs=-1)]: Done   2 tasks      | elapsed:    6.2s\n",
      "[Parallel(n_jobs=-1)]: Done   9 tasks      | elapsed:    9.9s\n",
      "[Parallel(n_jobs=-1)]: Done  19 out of  30 | elapsed:   18.5s remaining:   10.6s\n",
      "[Parallel(n_jobs=-1)]: Done  23 out of  30 | elapsed:   23.8s remaining:    7.2s\n",
      "[Parallel(n_jobs=-1)]: Done  27 out of  30 | elapsed:   26.4s remaining:    2.8s\n",
      "[Parallel(n_jobs=-1)]: Done  30 out of  30 | elapsed:   31.1s finished\n"
     ]
    },
    {
     "data": {
      "text/plain": [
       "RandomizedSearchCV(cv=3, error_score='raise-deprecating',\n",
       "                   estimator=Pipeline(memory=None,\n",
       "                                      steps=[('ordinalencoder',\n",
       "                                              OrdinalEncoder(cols=None,\n",
       "                                                             drop_invariant=False,\n",
       "                                                             handle_missing='value',\n",
       "                                                             handle_unknown='value',\n",
       "                                                             mapping=None,\n",
       "                                                             return_df=True,\n",
       "                                                             verbose=0)),\n",
       "                                             ('simpleimputer',\n",
       "                                              SimpleImputer(add_indicator=False,\n",
       "                                                            copy=True,\n",
       "                                                            fill_value=None,\n",
       "                                                            missing_values=nan,\n",
       "                                                            strategy='...\n",
       "                   iid='warn', n_iter=10, n_jobs=-1,\n",
       "                   param_distributions={'randomforestclassifier__max_depth': [5,\n",
       "                                                                              10,\n",
       "                                                                              15,\n",
       "                                                                              20,\n",
       "                                                                              None],\n",
       "                                        'randomforestclassifier__max_features': <scipy.stats._distn_infrastructure.rv_frozen object at 0x0000017861728348>,\n",
       "                                        'randomforestclassifier__n_estimators': range(50, 500)},\n",
       "                   pre_dispatch='2*n_jobs', random_state=42, refit=True,\n",
       "                   return_train_score=True, scoring='accuracy', verbose=10)"
      ]
     },
     "execution_count": 23,
     "metadata": {},
     "output_type": "execute_result"
    }
   ],
   "source": [
    "# import everything for randomforest/imputer/encoders\n",
    "import category_encoders as ce\n",
    "from sklearn.ensemble import RandomForestClassifier\n",
    "from sklearn.impute import SimpleImputer\n",
    "from sklearn.pipeline import make_pipeline\n",
    "\n",
    "# Im going to use random forest, and ordinal encoding\n",
    "pipeline = make_pipeline(\n",
    "    ce.OrdinalEncoder(), \n",
    "    SimpleImputer(), \n",
    "    RandomForestClassifier(random_state=42)\n",
    ")\n",
    "\n",
    "from sklearn.model_selection import RandomizedSearchCV\n",
    "from scipy.stats import randint, uniform\n",
    "\n",
    "param_distributions = {\n",
    "    'randomforestclassifier__n_estimators': range(50, 500), \n",
    "    'randomforestclassifier__max_depth': [5, 10, 15, 20, None], \n",
    "    'randomforestclassifier__max_features': uniform(0.2, 0.8), \n",
    "}\n",
    "# going for a total of 30 different tests, so i can be a bit more accurate,\n",
    "#but not take the entire sprint time to compute\n",
    "search = RandomizedSearchCV(\n",
    "    pipeline, \n",
    "    param_distributions=param_distributions, \n",
    "    n_iter=10, \n",
    "    cv=3, \n",
    "    scoring='accuracy', \n",
    "    verbose=10, \n",
    "    return_train_score=True, \n",
    "    n_jobs=-1, \n",
    "    random_state=42\n",
    ")\n",
    "\n",
    "search.fit(X_train, y_train)\n"
   ]
  },
  {
   "cell_type": "code",
   "execution_count": 24,
   "metadata": {},
   "outputs": [
    {
     "name": "stdout",
     "output_type": "stream",
     "text": [
      "Validation accuracy 0.4271752837326608\n"
     ]
    }
   ],
   "source": [
    "print('Validation accuracy', search.best_score_)\n",
    "# improved it a little, but ~42% accuracy is still not even clost to good.\n",
    "\n",
    "# But more to come in future days! I'm having fun messing around with my own dataset"
   ]
  },
  {
   "cell_type": "code",
   "execution_count": null,
   "metadata": {},
   "outputs": [],
   "source": []
  },
  {
   "cell_type": "code",
   "execution_count": null,
   "metadata": {},
   "outputs": [],
   "source": []
  }
 ],
 "metadata": {
  "kernelspec": {
   "display_name": "Python 3",
   "language": "python",
   "name": "python3"
  },
  "language_info": {
   "codemirror_mode": {
    "name": "ipython",
    "version": 3
   },
   "file_extension": ".py",
   "mimetype": "text/x-python",
   "name": "python",
   "nbconvert_exporter": "python",
   "pygments_lexer": "ipython3",
   "version": "3.7.4"
  }
 },
 "nbformat": 4,
 "nbformat_minor": 4
}
